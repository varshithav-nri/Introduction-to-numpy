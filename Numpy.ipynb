{
  "nbformat": 4,
  "nbformat_minor": 0,
  "metadata": {
    "colab": {
      "provenance": [],
      "authorship_tag": "ABX9TyPz+FYG/XjKTknaVh84dd+l",
      "include_colab_link": true
    },
    "kernelspec": {
      "name": "python3",
      "display_name": "Python 3"
    },
    "language_info": {
      "name": "python"
    }
  },
  "cells": [
    {
      "cell_type": "markdown",
      "metadata": {
        "id": "view-in-github",
        "colab_type": "text"
      },
      "source": [
        "<a href=\"https://colab.research.google.com/github/varshithav-nri/Introduction-to-numpy/blob/main/Numpy.ipynb\" target=\"_parent\"><img src=\"https://colab.research.google.com/assets/colab-badge.svg\" alt=\"Open In Colab\"/></a>"
      ]
    },
    {
      "cell_type": "code",
      "execution_count": null,
      "metadata": {
        "id": "7ShqQi7_trnu"
      },
      "outputs": [],
      "source": [
        "# Numpy - Numeric Python - Most powerful package or library to manipulate numbers\n",
        "\n",
        "# Dimensions\n",
        "#A - 1D array\n",
        "#[A,B] // |A\n",
        "#          B| - 2D array - Row//column\n",
        "#3D\n",
        "#Array - Storing, Manipulating similar data types - Convinient and faster\n",
        "\n",
        "# Numpy-memory efficiency, supports multidimensional arrays\n",
        "#speed(numpy operations)> speed(list operations)\n",
        "#size(numpy operations) < size(list operations)\n",
        "#Memory Optimization(numpy) > Memory Optimization(list Operations)"
      ]
    },
    {
      "cell_type": "code",
      "source": [
        "#pip install numpy // pip3 install numpy"
      ],
      "metadata": {
        "id": "1Xu4HZKpvJup"
      },
      "execution_count": null,
      "outputs": []
    },
    {
      "cell_type": "code",
      "source": [
        "import numpy as np"
      ],
      "metadata": {
        "id": "f9uRsrMSwFax"
      },
      "execution_count": null,
      "outputs": []
    },
    {
      "cell_type": "code",
      "source": [
        "#create numpy array\n",
        "arr1 = np.array([1,2,3,4,5])\n",
        "print(arr1)"
      ],
      "metadata": {
        "colab": {
          "base_uri": "https://localhost:8080/"
        },
        "id": "bP3CSv_FwKxq",
        "outputId": "5190fb53-e300-4ee9-b46f-6c8cdc890dd4"
      },
      "execution_count": null,
      "outputs": [
        {
          "output_type": "stream",
          "name": "stdout",
          "text": [
            "[1 2 3 4 5]\n"
          ]
        }
      ]
    },
    {
      "cell_type": "code",
      "source": [
        "type(arr1)"
      ],
      "metadata": {
        "colab": {
          "base_uri": "https://localhost:8080/"
        },
        "id": "LbiiKHEd3p1m",
        "outputId": "3969d2ad-939e-4e71-886f-79224d5bb392"
      },
      "execution_count": null,
      "outputs": [
        {
          "output_type": "execute_result",
          "data": {
            "text/plain": [
              "numpy.ndarray"
            ]
          },
          "metadata": {},
          "execution_count": 38
        }
      ]
    },
    {
      "cell_type": "code",
      "source": [
        "#2D  array-Matrix\n",
        "arr2 = np.array([[1,2,3],[4,5,6]])\n",
        "print(arr2)"
      ],
      "metadata": {
        "colab": {
          "base_uri": "https://localhost:8080/"
        },
        "id": "zt0c71hmwui7",
        "outputId": "fa2cc390-9485-4d9a-a114-63de16f6dc26"
      },
      "execution_count": null,
      "outputs": [
        {
          "output_type": "stream",
          "name": "stdout",
          "text": [
            "[[1 2 3]\n",
            " [4 5 6]]\n"
          ]
        }
      ]
    },
    {
      "cell_type": "code",
      "source": [
        "#creating arrey with default vaalues\n",
        "#creating matrix with all value elments as One\n",
        "\n",
        "allOnes = np.ones((2,3))\n",
        "print(allOnes)\n",
        "#creating matrix with all value elments as Zero\n",
        "\n",
        "allZeros = np.zeros((2,3))\n",
        "print(allZeros)\n",
        "#creating matrix with all value elments as constents\n",
        "\n",
        "allConstant = np.full((2,3),6)\n",
        "print(allConstant)"
      ],
      "metadata": {
        "colab": {
          "base_uri": "https://localhost:8080/"
        },
        "id": "NBC8iJPyzEjy",
        "outputId": "a1b31251-1b49-4022-8e8b-2d79de56540d"
      },
      "execution_count": null,
      "outputs": [
        {
          "output_type": "stream",
          "name": "stdout",
          "text": [
            "[[1. 1. 1.]\n",
            " [1. 1. 1.]]\n",
            "[[0. 0. 0.]\n",
            " [0. 0. 0.]]\n",
            "[[6 6 6]\n",
            " [6 6 6]]\n"
          ]
        }
      ]
    },
    {
      "cell_type": "code",
      "source": [
        "#crete an identity matrix\n",
        "identity = np.eye(4)\n",
        "print(identity)\n",
        "#I.M = M\n",
        "#identity bmatrix\n",
        "#For all A belongs to R M*N\n",
        "#Aij - 0 & Aii - 1"
      ],
      "metadata": {
        "colab": {
          "base_uri": "https://localhost:8080/"
        },
        "id": "vrXeRZER0tXd",
        "outputId": "48a365be-6589-4c49-fd36-11398056774a"
      },
      "execution_count": null,
      "outputs": [
        {
          "output_type": "stream",
          "name": "stdout",
          "text": [
            "[[1. 0. 0. 0.]\n",
            " [0. 1. 0. 0.]\n",
            " [0. 0. 1. 0.]\n",
            " [0. 0. 0. 1.]]\n"
          ]
        }
      ]
    },
    {
      "cell_type": "code",
      "source": [
        "# creating Random matrices\n",
        "# with 0 and 1\n",
        "rand1 = np.random.rand(3,3)\n",
        "print(rand1)\n",
        "\n",
        "rand2 = np.random.randint(10,20, (3,3))\n",
        "print(rand2)"
      ],
      "metadata": {
        "colab": {
          "base_uri": "https://localhost:8080/"
        },
        "id": "xfE_zZgy3oZ6",
        "outputId": "3ef01153-edd5-43b3-953d-bd4f5ff0b4ba"
      },
      "execution_count": null,
      "outputs": [
        {
          "output_type": "stream",
          "name": "stdout",
          "text": [
            "[[0.09724321 0.55812719 0.50200397]\n",
            " [0.77538276 0.87964867 0.23095357]\n",
            " [0.26152685 0.0555797  0.06357398]]\n",
            "[[11 13 11]\n",
            " [14 10 15]\n",
            " [13 10 12]]\n"
          ]
        }
      ]
    },
    {
      "cell_type": "code",
      "source": [
        "# Array Properties\n",
        "arr = np.array([[1,2,3,4],[5,6,7,8]])\n",
        "print(arr)\n",
        "\n",
        "#shape,size,data type,dimensions of array\n",
        "print(f'\\nThe shape of the array is{arr.shape}')\n",
        "print(f'The size of the array is {arr.size}')\n",
        "print(f'The data type of the array is {arr.dtype}')\n",
        "print(f'The dimension of the array is {arr.ndim}')"
      ],
      "metadata": {
        "colab": {
          "base_uri": "https://localhost:8080/"
        },
        "id": "Z3NSQa774OYN",
        "outputId": "60264482-e176-403e-b162-f82abde48dd8"
      },
      "execution_count": null,
      "outputs": [
        {
          "output_type": "stream",
          "name": "stdout",
          "text": [
            "[[1 2 3 4]\n",
            " [5 6 7 8]]\n",
            "\n",
            "The shape of the array is(2, 4)\n",
            "The size of the array is 8\n",
            "The data type of the array is int64\n",
            "The dimension of the array is 2\n"
          ]
        }
      ]
    },
    {
      "cell_type": "code",
      "source": [
        "np.version"
      ],
      "metadata": {
        "colab": {
          "base_uri": "https://localhost:8080/"
        },
        "id": "KYflXB056hW9",
        "outputId": "d28358e2-eda6-4d05-e05a-f79f333e66ae"
      },
      "execution_count": null,
      "outputs": [
        {
          "output_type": "execute_result",
          "data": {
            "text/plain": [
              "<module 'numpy.version' from '/usr/local/lib/python3.11/dist-packages/numpy/version.py'>"
            ]
          },
          "metadata": {},
          "execution_count": 44
        }
      ]
    },
    {
      "cell_type": "code",
      "source": [
        "# Indexing and slicing\n",
        "#Access the elements in 1D array\n",
        "arr = np.array([1,2,3,4])\n",
        "print(arr)\n",
        "print(arr[3])\n",
        "#slicing the elements\n",
        "print(arr[1:3])\n",
        "\n",
        "# access element in 2D array\n",
        "arr2 = np.array([[1,2,3],[5,6,7]])\n",
        "print(arr2)\n",
        "print(arr2[0,1])\n",
        "\n",
        "print(arr2[1,:])\n",
        "print(arr2[:,2])"
      ],
      "metadata": {
        "colab": {
          "base_uri": "https://localhost:8080/"
        },
        "id": "k3ZI4OAt7snt",
        "outputId": "67d69820-dcee-48e6-bdb0-91aca5b6069a"
      },
      "execution_count": null,
      "outputs": [
        {
          "output_type": "stream",
          "name": "stdout",
          "text": [
            "[1 2 3 4]\n",
            "4\n",
            "[2 3]\n",
            "[[1 2 3]\n",
            " [5 6 7]]\n",
            "2\n",
            "[5 6 7]\n",
            "[3 7]\n"
          ]
        }
      ]
    },
    {
      "cell_type": "code",
      "source": [
        "#l1=[]\n",
        "#[l1.append] for _ in range(10):\n",
        "    #print(_)\n",
        "l1=np.arange(10,-10,-2)\n",
        "print(l1)"
      ],
      "metadata": {
        "colab": {
          "base_uri": "https://localhost:8080/"
        },
        "id": "0-KZ-7zpAvdZ",
        "outputId": "94487e00-a942-46ed-f9c5-6ce6ddfc5406"
      },
      "execution_count": null,
      "outputs": [
        {
          "output_type": "stream",
          "name": "stdout",
          "text": [
            "[10  8  6  4  2  0 -2 -4 -6 -8]\n"
          ]
        }
      ]
    },
    {
      "cell_type": "code",
      "source": [
        "#mathematical operations\n",
        "a = np.array([1,2,3])\n",
        "b = np.array([4,5,6])\n",
        "print(f'sum of a and b is {a+b}')\n",
        "print(a-b)\n",
        "print(a*b)\n",
        "print(a/b)"
      ],
      "metadata": {
        "colab": {
          "base_uri": "https://localhost:8080/"
        },
        "id": "Pk2VEN3_B5f5",
        "outputId": "f58c706d-2588-4a62-8d1a-20f589aa1624"
      },
      "execution_count": null,
      "outputs": [
        {
          "output_type": "stream",
          "name": "stdout",
          "text": [
            "sum of a and b is [5 7 9]\n",
            "[-3 -3 -3]\n",
            "[ 4 10 18]\n",
            "[0.25 0.4  0.5 ]\n"
          ]
        }
      ]
    },
    {
      "cell_type": "code",
      "source": [
        "#matrix multiplication (#rows = columns)\n",
        "b1 = np.array([[1,2,3],[3,4,5]])\n",
        "b2 = np.array([[5,6],[7,8],[1,2]])\n",
        "print(b1)\n",
        "print(b2)\n",
        "c = np.dot(b1,b2)\n",
        "d = np.dot(b2,b1) #b1*b2 != b2*b1\n",
        "print(c)\n",
        "print(d)\n",
        "#print(b1.dot(b2)) (another method)"
      ],
      "metadata": {
        "colab": {
          "base_uri": "https://localhost:8080/"
        },
        "id": "RrjkQTeACWdE",
        "outputId": "916a7303-2415-45c5-b5fc-ca179febf609"
      },
      "execution_count": null,
      "outputs": [
        {
          "output_type": "stream",
          "name": "stdout",
          "text": [
            "[[1 2 3]\n",
            " [3 4 5]]\n",
            "[[5 6]\n",
            " [7 8]\n",
            " [1 2]]\n",
            "[[22 28]\n",
            " [48 60]]\n",
            "[[23 34 45]\n",
            " [31 46 61]\n",
            " [ 7 10 13]]\n"
          ]
        }
      ]
    },
    {
      "cell_type": "code",
      "source": [
        "b1 = np.array([[1,2],[3,4]]) #square matrix\n",
        "b2 = np.array([[5,6],[7,8]])\n",
        "c = np.cross(b1,b2) #[1*6-5*2  3*8-4*7] (vector multiplication)\n",
        "d = np.dot(b1,b2)\n",
        "e = np.dot(b2,b1)\n",
        "print(c)\n",
        "print(d)\n",
        "print(e)"
      ],
      "metadata": {
        "colab": {
          "base_uri": "https://localhost:8080/"
        },
        "id": "ZZzc3Ds1EwvF",
        "outputId": "0514920a-7e78-440c-f1af-d193eae74784"
      },
      "execution_count": null,
      "outputs": [
        {
          "output_type": "stream",
          "name": "stdout",
          "text": [
            "[-4 -4]\n",
            "[[19 22]\n",
            " [43 50]]\n",
            "[[23 34]\n",
            " [31 46]]\n"
          ]
        }
      ]
    },
    {
      "cell_type": "code",
      "source": [
        "t1 = np.random.randint(3,6,(3,3))\n",
        "t2 = np.random.randint(3,6,(3,3))\n",
        "print (t1)\n",
        "print (t2)\n",
        "t3 = t1 + t2\n",
        "print(t3)"
      ],
      "metadata": {
        "colab": {
          "base_uri": "https://localhost:8080/"
        },
        "id": "dhJG9IRd8w0l",
        "outputId": "d52d0b02-a9d0-476a-f3c8-b66414d96171"
      },
      "execution_count": null,
      "outputs": [
        {
          "output_type": "stream",
          "name": "stdout",
          "text": [
            "[[4 5 4]\n",
            " [3 5 4]\n",
            " [3 3 4]]\n",
            "[[5 4 5]\n",
            " [4 3 5]\n",
            " [3 3 4]]\n",
            "[[9 9 9]\n",
            " [7 8 9]\n",
            " [6 6 8]]\n"
          ]
        }
      ]
    },
    {
      "cell_type": "code",
      "source": [
        "#statistical operations\n",
        "mean = t3.mean()\n",
        "mode = t3.max()\n",
        "median = np.median(t3)\n",
        "std = np.std(t3)\n",
        "var = np.var(t3)\n",
        "print(mean)\n",
        "print(mode)\n",
        "print(median)\n",
        "print(std)\n",
        "print(var)"
      ],
      "metadata": {
        "colab": {
          "base_uri": "https://localhost:8080/"
        },
        "id": "9WETlmpZ9gRl",
        "outputId": "cf1741ec-a3a8-42be-ec7c-451540225c39"
      },
      "execution_count": null,
      "outputs": [
        {
          "output_type": "stream",
          "name": "stdout",
          "text": [
            "7.888888888888889\n",
            "9\n",
            "8.0\n",
            "1.1967032904743342\n",
            "1.432098765432099\n"
          ]
        }
      ]
    },
    {
      "cell_type": "code",
      "source": [
        "std*std #variance"
      ],
      "metadata": {
        "colab": {
          "base_uri": "https://localhost:8080/"
        },
        "id": "b0lmwCmW-8UO",
        "outputId": "e151a3ee-cdc0-40db-9114-99d979efaf9b"
      },
      "execution_count": null,
      "outputs": [
        {
          "output_type": "execute_result",
          "data": {
            "text/plain": [
              "1.4320987654320987"
            ]
          },
          "metadata": {},
          "execution_count": 78
        }
      ]
    },
    {
      "cell_type": "code",
      "source": [
        "#Trignometric func\n",
        "angles = np.array([0,15,30,45,60,75,90])\n",
        "#sin(array)\n",
        "result = np.sin(np.radians(angles))\n",
        "result1 = np.cos(np.radians(angles))\n",
        "result2 = np.tan(np.radians(angles))\n",
        "print(result)\n",
        "print(result1)\n",
        "print(result/result1) #tan\n",
        "print(result2)\n"
      ],
      "metadata": {
        "colab": {
          "base_uri": "https://localhost:8080/"
        },
        "id": "cwnOLybJ_fFw",
        "outputId": "82d385b9-7d0d-48a5-fbbe-c0061bc992dc"
      },
      "execution_count": null,
      "outputs": [
        {
          "output_type": "stream",
          "name": "stdout",
          "text": [
            "[0.         0.25881905 0.5        0.70710678 0.8660254  0.96592583\n",
            " 1.        ]\n",
            "[1.00000000e+00 9.65925826e-01 8.66025404e-01 7.07106781e-01\n",
            " 5.00000000e-01 2.58819045e-01 6.12323400e-17]\n",
            "[0.00000000e+00 2.67949192e-01 5.77350269e-01 1.00000000e+00\n",
            " 1.73205081e+00 3.73205081e+00 1.63312394e+16]\n",
            "[0.00000000e+00 2.67949192e-01 5.77350269e-01 1.00000000e+00\n",
            " 1.73205081e+00 3.73205081e+00 1.63312394e+16]\n"
          ]
        }
      ]
    },
    {
      "cell_type": "code",
      "source": [
        "arr = np.array([1,2,3,4,5,6])\n",
        "print(arr)\n",
        "#reshape trhe array\n",
        "reshapearr = arr.reshape(2,3)\n",
        "reshapearr1 = arr.reshape(6,1)\n",
        "#convert / Flatten any n dim array\n",
        "flattendarr = arr.flatten()\n",
        "\n",
        "\n",
        "print(reshapearr)\n",
        "print(reshapearr1)\n",
        "print(flattendarr)"
      ],
      "metadata": {
        "colab": {
          "base_uri": "https://localhost:8080/"
        },
        "id": "ZviOoBM6AbKS",
        "outputId": "fc46c5e9-73f4-44d3-a861-a0a2ecf64907"
      },
      "execution_count": null,
      "outputs": [
        {
          "output_type": "stream",
          "name": "stdout",
          "text": [
            "[1 2 3 4 5 6]\n",
            "[[1 2 3]\n",
            " [4 5 6]]\n",
            "[[1]\n",
            " [2]\n",
            " [3]\n",
            " [4]\n",
            " [5]\n",
            " [6]]\n",
            "[1 2 3 4 5 6]\n"
          ]
        }
      ]
    },
    {
      "cell_type": "code",
      "source": [
        "#stacking data\n",
        "arr1 = np.array([1,2,3,4])\n",
        "arr2 = np.array([10,20,30,40])\n",
        "arr3 = np.vstack((arr1,arr2)) #vertical stack - dimensions have to equal\n",
        "print(arr3)\n",
        "print(arr3.shape)\n",
        "print(np.hstack((arr1,arr2))) #horizontal stack\n"
      ],
      "metadata": {
        "colab": {
          "base_uri": "https://localhost:8080/"
        },
        "id": "zrpw305NEpOS",
        "outputId": "790c2e3b-dbed-409b-db8f-ac2a84589cb5"
      },
      "execution_count": null,
      "outputs": [
        {
          "output_type": "stream",
          "name": "stdout",
          "text": [
            "[[ 1  2  3  4]\n",
            " [10 20 30 40]]\n",
            "(2, 4)\n",
            "[ 1  2  3  4 10 20 30 40]\n"
          ]
        }
      ]
    },
    {
      "cell_type": "code",
      "source": [
        "#filtering\n",
        "arr = np.array([10,20,30,40,50,60,70,80])\n",
        "farr = arr[arr>40]\n",
        "print (farr)"
      ],
      "metadata": {
        "colab": {
          "base_uri": "https://localhost:8080/"
        },
        "id": "-mo1Y8XMFWCY",
        "outputId": "0635667d-917f-4cd4-cfb2-111a649e65f1"
      },
      "execution_count": null,
      "outputs": [
        {
          "output_type": "stream",
          "name": "stdout",
          "text": [
            "[50 60 70 80]\n"
          ]
        }
      ]
    }
  ]
}